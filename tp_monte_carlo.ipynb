{
 "cells": [
  {
   "cell_type": "markdown",
   "metadata": {},
   "source": [
    " # <center>TP informatique : la méthode de Monte-Carlo</center>"
   ]
  },
  {
   "cell_type": "markdown",
   "metadata": {},
   "source": [
    "## 1. Estimation du nombre $\\pi$ par la méthode de Monte-Carlo"
   ]
  },
  {
   "cell_type": "markdown",
   "metadata": {},
   "source": [
    "### a) Déterminer un critère pour savoir si un point $M$ appartient au quart de disque (D)"
   ]
  },
  {
   "cell_type": "markdown",
   "metadata": {},
   "source": [
    "On considère un quart de disque <span style='color:red'>**(D)**</span> de rayon 1 dont le centre $O$ est l'origine d'un repère orthonormé $(O;I,J)$.\n",
    "<img src=\"image1.png\" width=\"30%\">"
   ]
  },
  {
   "cell_type": "markdown",
   "metadata": {},
   "source": [
    " <span style='color:green'>**Rappel 1**</span> : \n",
    " On considère les points $A(x_{A};y_{A})$ et $B(x_{B};y_{B})$ dans un repère $(O;I,J)$ alors $AB=\\sqrt{(x_{B}-x_{A})^{2}+(y_{B}-y_{A})^{2}}$ et donc en élevant le tout au carré :  $AB^{2}=(x_{B}-x_{A})^{2}+(y_{B}-y_{A})^{2}$  <span style='color:red'>**(1)**</span>.\n",
    " \n",
    "En particularisant <span style='color:red'>**(1)**</span> aux points $M(x;y)$ et $O(0,0)$, on obtient $OM^{2}=x^{2}+y^{2}$ <span style='color:red'>**(2)**</span>."
   ]
  },
  {
   "cell_type": "markdown",
   "metadata": {},
   "source": [
    " <span style='color:blue'>**Question 1**</span> : On considère les points $A(0,1;0,8)$ et $B(0,4;0,6)$ du repère $(O;I,J)$.\n",
    " A l'aide de la formule <span style='color:red'>**(2)**</span> et de votre calculatrice, taper dans la cellule ci-dessous :\n",
    " * les valeurs de $OA^{2}$ et $OB^{2}$,\n",
    " * et dire si les points $A$ et $B$ appartiennent au quart de disque  <span style='color:red'>**(D)**</span> de centre $O$ et de rayon 1.\n"
   ]
  },
  {
   "cell_type": "raw",
   "metadata": {},
   "source": []
  },
  {
   "cell_type": "markdown",
   "metadata": {},
   "source": [
    " <span style='color:green'>**En résumé**</span> : \n",
    "\n",
    "Soit  $M(x;y)$ un point du plan doté d'un repère orthonormé $(O;I,J)$.\n",
    "\n",
    "Si $x^{2}+y^{2}\\le1$ alors le point $M(x;y)$ appartient au quart de disque <span style='color:red'>**(D)**</span>, frontière comprise."
   ]
  },
  {
   "cell_type": "markdown",
   "metadata": {},
   "source": [
    "### b) La méthode de Monte-Carlo"
   ]
  },
  {
   "cell_type": "markdown",
   "metadata": {},
   "source": [
    "Le principe de la méthode de Monte-Carlo consiste à tirer au hasard les coordonnées $(x,y)$ d'un point $M$ avec $x\\in[0;1]$ et  $y\\in[0;1]$. \n",
    "\n",
    "Le point $M$ appartient soit au quart de disque <span style='color:red'>**(D)**</span>, soit au carré $OIKJ$.\n",
    "\n",
    "<img src=\"image2.png\" width=\"30%\">\n",
    "\n",
    "Pour que le point $M$ appartienne au quart de disque <span style='color:red'>**(D)**</span> de rayon 1 et de centre $O$, il suffit que l'on ait : $OM^{2}\\le1$  ou encore $x^{2}+y^{2}\\le1$ d'après le résumé précédent.\n",
    "\n",
    "Si $N$ est le nombre de points $M(x,y)$ tirés au hasard avec $x\\in[0;1]$ et  $x\\in[0;1]$, et $n$ le nombre de ces points $M(x,y)$ qui appartiennent au quart de disque <span style='color:red'>**(D)**</span> de centre $O$ et de rayon 1 alors le rapport $\\dfrac{n}{N}$ donne une approximation du quotient $\\dfrac{\\text{Aire de (D)}}{\\text{Aire du carré } OIKJ}$.\n",
    "\n",
    "Or $\\dfrac{\\text{Aire de (D)}}{\\text{Aire du carré } OIKJ}=\\dfrac{\\frac{\\pi\\times 1^{2}}{4}}{1^{1}}$ car $\\text{Aire de (D)}=\\frac{\\pi\\times 1^{2}}{4}$ et $\\text{Aire du carré}=1^{2}$.\n",
    "\n",
    "En simplifiant, on obtient que  $\\dfrac{\\text{Aire de (D)}}{\\text{Aire du carré } OIKJ}=\\dfrac{\\pi}{4}$ qui est approximé par $\\dfrac{n}{N}$. Donc $\\dfrac{n}{N}\\approx \\dfrac{\\pi}{4}$, et on en déduit que $\\pi\\approx \\dfrac{4n}{N}$."
   ]
  },
  {
   "cell_type": "markdown",
   "metadata": {},
   "source": [
    " <span style='color:blue'>**Question 2**</span> : On suppose que sur 1000 tirages de points $M(x,y)$ de manière aléatoire avec  $x\\in[0;1]$ et  $y\\in[0;1]$, 320 d'entre eux appartiennent au quart de disque <span style='color:red'>**(D)**</span>. En déduire une valeur approchée de $\\pi$ que vous tapperez ci-dessous :"
   ]
  },
  {
   "cell_type": "raw",
   "metadata": {},
   "source": []
  },
  {
   "cell_type": "markdown",
   "metadata": {},
   "source": [
    "### c) Implémentation en langage Python de la méthode de Monte-Carlo pour donner une approximation du réel $\\pi$"
   ]
  },
  {
   "cell_type": "markdown",
   "metadata": {},
   "source": [
    "Exécuter plusieurs fois les deux lignes de programme suivantes, en :\n",
    "* cliquant à l'intérieur de la cellule ci-dessous, puis en cliquant sur *Exécuter*,\n",
    "* réitérant plusieurs fois l'étape précédente.\n",
    "\n",
    "<img src=\"image3.png\">"
   ]
  },
  {
   "cell_type": "code",
   "execution_count": null,
   "metadata": {},
   "outputs": [],
   "source": [
    "from random import *\n",
    "random()"
   ]
  },
  {
   "cell_type": "markdown",
   "metadata": {},
   "source": [
    " <span style='color:blue'>**Question 3**</span> :\n",
    " A votre avis que renvoie la fonction *random()* ? Taper votre réponse dans la cellule ci-après :"
   ]
  },
  {
   "cell_type": "raw",
   "metadata": {},
   "source": []
  },
  {
   "cell_type": "code",
   "execution_count": null,
   "metadata": {},
   "outputs": [],
   "source": [
    "from random import *\n",
    "def Monte_Carlo(N):\n",
    "    n=0\n",
    "    for i in range(N):\n",
    "        x=random()\n",
    "        y=random()\n",
    "        if x**2+y**2<=1:\n",
    "            n=n+1\n",
    "    return round((4*n)/N,5)"
   ]
  },
  {
   "cell_type": "code",
   "execution_count": null,
   "metadata": {},
   "outputs": [],
   "source": [
    "Monte_Carlo(1000000)"
   ]
  },
  {
   "cell_type": "markdown",
   "metadata": {},
   "source": [
    "Calculer une valeur approchée de $\\pi$ à l'aide de l'appel de fonction *Monte_Carlo(1000000)*. Saisir votre résultat dans la cellule ci-après :"
   ]
  },
  {
   "cell_type": "raw",
   "metadata": {},
   "source": []
  },
  {
   "cell_type": "markdown",
   "metadata": {},
   "source": [
    "Exécuter le programme suivant qui affiche les points, et donne une approximation de $\\pi$ :"
   ]
  },
  {
   "cell_type": "code",
   "execution_count": null,
   "metadata": {},
   "outputs": [],
   "source": [
    "from random import *\n",
    "import matplotlib.pyplot as plt\n",
    "def Monte_Carlo(N):\n",
    "    plt.axis('equal')\n",
    "    plt.xlabel(\"x\")\n",
    "    plt.ylabel(\"y\")\n",
    "    n=0\n",
    "    for i in range(N):\n",
    "        x=random()\n",
    "        y=random()\n",
    "        if x**2+y**2<=1:\n",
    "            plt.plot(x,y,marker=\"o\",color=\"red\")\n",
    "            n=n+1\n",
    "        else :\n",
    "            plt.plot(x,y,marker=\"o\",color=\"blue\")\n",
    "    plt.show()\n",
    "    return round((4*n)/N,5)\n",
    "Monte_Carlo(1000)"
   ]
  },
  {
   "cell_type": "markdown",
   "metadata": {},
   "source": [
    "\n",
    "\n",
    "## 2. Estimation de l'aire de la surface sous la courbe d'une parabole par la méthode de Monte-Carlo"
   ]
  },
  {
   "cell_type": "markdown",
   "metadata": {},
   "source": [
    "### a) La problématique"
   ]
  },
  {
   "cell_type": "markdown",
   "metadata": {},
   "source": [
    "Soit $C_{f}$ la parabole représentative de la fonction $f$ définie sur $\\mathbb{R}$ par $f(x)=x^{2}$. \n",
    "\n",
    "On considère la surface bleutée <span style='color:red'>**(S)**</span> de la figure ci-dessous, définie par {$M(x,y)$/$0\\le x \\le 1$ et $0\\le x \\le x^{2}$} .\n",
    "\n",
    "<img src=\"image4.png\" width=\"60%\">\n",
    "\n",
    "On souhaite obtenir une approximation par la méthode de Monte-Carlo, de l'aire de la surface bleutée <span style='color:red'>**(S)**</span> délimitée par la parabole $C_{f}$, l'axe des abcisses et la droite d'équation $x=1$."
   ]
  },
  {
   "cell_type": "markdown",
   "metadata": {},
   "source": [
    "### b) L'implémentation en langage Python d'une fonction aire_parabole(N)"
   ]
  },
  {
   "cell_type": "markdown",
   "metadata": {},
   "source": [
    "Compléter la fonction *aire_parabole(N)* dans la cellule suivante pour qu'elle affiche une approximation de l'aire de la surface <span style='color:red'>**(S)**</span> :"
   ]
  },
  {
   "cell_type": "code",
   "execution_count": 30,
   "metadata": {},
   "outputs": [],
   "source": [
    "from random import *\n",
    "def aire_parabole(N):\n",
    "    n=0\n",
    "    for i in range(N):\n",
    "        x=random()\n",
    "        y=random()\n",
    "        \n",
    "    \n",
    "    \n",
    "\n"
   ]
  },
  {
   "cell_type": "code",
   "execution_count": 29,
   "metadata": {},
   "outputs": [],
   "source": [
    "aire_parabole(1000000)"
   ]
  },
  {
   "cell_type": "markdown",
   "metadata": {},
   "source": [
    "# 3. Quelques remarques en lien avec ce TP informatique"
   ]
  },
  {
   "cell_type": "markdown",
   "metadata": {},
   "source": [
    "### a) Qui a inventé la méthode de Monte-Carlo ?"
   ]
  },
  {
   "cell_type": "markdown",
   "metadata": {},
   "source": [
    "\"*Le terme méthode de Monte-Carlo, ou méthode Monte-Carlo, désigne une famille de méthodes algorithmiques visant à calculer une valeur numérique approchée en utilisant des procédés aléatoires, c'est-à-dire des techniques probabilistes. Le nom de ces méthodes, qui fait allusion aux jeux de hasard pratiqués au casino de Monte-Carlo, a été inventé en 1947 par Nicholas Metropolis, et publié pour la première fois en 1949 dans un article coécrit avec Stanislaw Ulam*\". D'après Wikipédia\n",
    "\n",
    "* Nicholas Metropolis (1915-1999) : physicien gréco-américain\n",
    "\n",
    "<img src=\"Nicholas_Metropolis_cropped.png\">\n",
    "\n",
    "* Stanislaw Ulam (1909-1984) : mathéméticien polonais \n",
    "\n",
    "<img src=\"Stanislaw_Ulam.png\">\n",
    " "
   ]
  },
  {
   "cell_type": "markdown",
   "metadata": {},
   "source": [
    "### b) Une correction vidéo du 2. b)"
   ]
  },
  {
   "cell_type": "markdown",
   "metadata": {},
   "source": [
    "Voici une correction de la question 2. b) pour récompenser ceux qui sont allés au bout de ce TP informatique !\n",
    "\n",
    "[Lien vers la vidéo](https://www.youtube.com/watch?v=unkh3TZU3YM&list=RDCMUCo-O74A4qVz6nq5cfCIee6w&start_radio=1&t=4)"
   ]
  }
 ],
 "metadata": {
  "kernelspec": {
   "display_name": "Python 3",
   "language": "python",
   "name": "python3"
  },
  "language_info": {
   "codemirror_mode": {
    "name": "ipython",
    "version": 3
   },
   "file_extension": ".py",
   "mimetype": "text/x-python",
   "name": "python",
   "nbconvert_exporter": "python",
   "pygments_lexer": "ipython3",
   "version": "3.7.8"
  }
 },
 "nbformat": 4,
 "nbformat_minor": 4
}
